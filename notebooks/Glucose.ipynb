{
 "cells": [
  {
   "cell_type": "markdown",
   "id": "a8f4b15a-1e35-45ff-94bd-bd720a1b56e2",
   "metadata": {},
   "source": [
    "# Glucose\n",
    "\n",
    "This notebook is to be used to examine blood glucose levels in the Apple Health export and compare them to other quantities."
   ]
  },
  {
   "cell_type": "code",
   "execution_count": null,
   "id": "b8871e82-8456-4b3d-b203-1cf9e787c8db",
   "metadata": {},
   "outputs": [],
   "source": [
    "from apple_health_analysis.healthdata import get_healthdata\n",
    "\n",
    "print(\"Getting HealthData -- this may take a while...\")\n",
    "healthdata = get_healthdata()\n",
    "print(\"Done getting HealthData\")"
   ]
  },
  {
   "cell_type": "code",
   "execution_count": null,
   "id": "86c88050-f1ea-45bf-8bf3-bf50aa9ba56f",
   "metadata": {},
   "outputs": [],
   "source": [
    "print(healthdata.records)"
   ]
  },
  {
   "cell_type": "code",
   "execution_count": null,
   "id": "2c9e3fa5-433e-4886-a5aa-7aea939f0690",
   "metadata": {},
   "outputs": [],
   "source": []
  }
 ],
 "metadata": {
  "kernelspec": {
   "display_name": "Python 3 (ipykernel)",
   "language": "python",
   "name": "python3"
  },
  "language_info": {
   "codemirror_mode": {
    "name": "ipython",
    "version": 3
   },
   "file_extension": ".py",
   "mimetype": "text/x-python",
   "name": "python",
   "nbconvert_exporter": "python",
   "pygments_lexer": "ipython3",
   "version": "3.13.3"
  }
 },
 "nbformat": 4,
 "nbformat_minor": 5
}
