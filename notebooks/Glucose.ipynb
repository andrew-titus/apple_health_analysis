{
 "cells": [
  {
   "cell_type": "markdown",
   "id": "a8f4b15a-1e35-45ff-94bd-bd720a1b56e2",
   "metadata": {},
   "source": [
    "# Glucose\n",
    "\n",
    "This notebook is to be used to examine blood glucose record entries in the Apple Health export."
   ]
  },
  {
   "cell_type": "code",
   "execution_count": null,
   "id": "b8871e82-8456-4b3d-b203-1cf9e787c8db",
   "metadata": {},
   "outputs": [],
   "source": [
    "\n",
    "from apple_health_analysis.healthdata import get_healthdata\n",
    "\n",
    "print(\"Getting HealthData -- this may take a while...\")\n",
    "healthdata = get_healthdata(use_cache=True)\n",
    "print(\"Done getting HealthData\")"
   ]
  },
  {
   "cell_type": "code",
   "execution_count": null,
   "id": "7271a3ad-8a46-4403-aa9b-6f31123a428e",
   "metadata": {},
   "outputs": [],
   "source": [
    "glucose_records = healthdata.records[\n",
    "    healthdata.records.record_type == \"HKQuantityTypeIdentifierBloodGlucose\"\n",
    "]\n",
    "print(\n",
    "    f\"{len(glucose_records)} glucose records found out of {len(healthdata.records)} records total\"\n",
    ")"
   ]
  },
  {
   "cell_type": "code",
   "execution_count": null,
   "id": "f83777b7-9bb4-416d-9ad8-c22a1e1a3e11",
   "metadata": {},
   "outputs": [],
   "source": [
    "print(glucose_records.unit.describe())"
   ]
  },
  {
   "cell_type": "code",
   "execution_count": null,
   "id": "4064e9f3-7ec1-4140-9c47-f67fab82a9e6",
   "metadata": {},
   "outputs": [],
   "source": [
    "print(glucose_records.value.describe())"
   ]
  },
  {
   "cell_type": "code",
   "execution_count": null,
   "id": "057df931-78ac-46ce-83ef-f06067d8791d",
   "metadata": {},
   "outputs": [],
   "source": [
    "import seaborn as sns\n",
    "\n",
    "sns.set_theme(style=\"darkgrid\")\n",
    "\n",
    "sns.lineplot(\n",
    "    x=\"start_date\",\n",
    "    y=\"value\",\n",
    "    data=glucose_records,\n",
    ")"
   ]
  },
  {
   "cell_type": "code",
   "execution_count": null,
   "id": "265ba5a7-4db8-486c-92a4-11d236ddbf19",
   "metadata": {},
   "outputs": [],
   "source": []
  }
 ],
 "metadata": {
  "kernelspec": {
   "display_name": "Python 3 (ipykernel)",
   "language": "python",
   "name": "python3"
  },
  "language_info": {
   "codemirror_mode": {
    "name": "ipython",
    "version": 3
   },
   "file_extension": ".py",
   "mimetype": "text/x-python",
   "name": "python",
   "nbconvert_exporter": "python",
   "pygments_lexer": "ipython3",
   "version": "3.13.3"
  }
 },
 "nbformat": 4,
 "nbformat_minor": 5
}
