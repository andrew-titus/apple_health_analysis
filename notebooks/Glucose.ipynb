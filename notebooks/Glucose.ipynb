{
 "cells": [
  {
   "cell_type": "markdown",
   "id": "a8f4b15a-1e35-45ff-94bd-bd720a1b56e2",
   "metadata": {},
   "source": [
    "# Glucose\n",
    "\n",
    "This notebook is to be used to examine blood glucose record entries in the Apple Health export."
   ]
  },
  {
   "cell_type": "code",
   "execution_count": null,
   "id": "1fc91a94-5649-45ac-97b7-0b92d98b7c52",
   "metadata": {},
   "outputs": [],
   "source": [
    "from datetime import datetime, timedelta, timezone\n",
    "import os\n",
    "\n",
    "import seaborn as sns\n",
    "\n",
    "sns.set_theme(style=\"darkgrid\")"
   ]
  },
  {
   "cell_type": "code",
   "execution_count": null,
   "id": "b8871e82-8456-4b3d-b203-1cf9e787c8db",
   "metadata": {},
   "outputs": [],
   "source": [
    "from apple_health_analysis.healthdata import get_healthdata\n",
    "\n",
    "print(\"Getting HealthData -- this may take a while...\")\n",
    "healthdata = get_healthdata(use_cache=True)\n",
    "print(\"Done getting HealthData\")"
   ]
  },
  {
   "cell_type": "code",
   "execution_count": null,
   "id": "7271a3ad-8a46-4403-aa9b-6f31123a428e",
   "metadata": {},
   "outputs": [],
   "source": [
    "glucose_records = healthdata.records[\n",
    "    healthdata.records.record_type == \"HKQuantityTypeIdentifierBloodGlucose\"\n",
    "]\n",
    "print(\n",
    "    f\"{len(glucose_records)} glucose records found out of {len(healthdata.records)} records total\"\n",
    ")"
   ]
  },
  {
   "cell_type": "code",
   "execution_count": null,
   "id": "f83777b7-9bb4-416d-9ad8-c22a1e1a3e11",
   "metadata": {},
   "outputs": [],
   "source": [
    "print(glucose_records.unit.describe())"
   ]
  },
  {
   "cell_type": "code",
   "execution_count": null,
   "id": "4064e9f3-7ec1-4140-9c47-f67fab82a9e6",
   "metadata": {},
   "outputs": [],
   "source": [
    "print(glucose_records.value.describe())"
   ]
  },
  {
   "cell_type": "markdown",
   "id": "d6e50976-7ca9-447c-8110-9665af68b0d5",
   "metadata": {},
   "source": [
    "## Calibration\n",
    "\n",
    "Some CGMs may need [manual calibration](https://www.nutrisense.io/blog/how-cgms-work-and-accuracy?srsltid=AfmBOoo09RrYXxYjmHb-QHoGq0A6G-akYhGmxFZmdU41zge3S178ACFp) based on blood glucometer readings (i.e., finger sticks). Before performing further analysis, one may want to first calibrate their readings."
   ]
  },
  {
   "cell_type": "code",
   "execution_count": null,
   "id": "94df9674-5ce4-4ff4-9aea-456c350d03e5",
   "metadata": {},
   "outputs": [],
   "source": [
    "sns.lineplot(\n",
    "    x=\"start_date\",\n",
    "    y=\"value\",\n",
    "    data=glucose_records,\n",
    ")"
   ]
  },
  {
   "cell_type": "code",
   "execution_count": null,
   "id": "de98c60a-7779-45fd-9267-6cf4496ed19f",
   "metadata": {},
   "outputs": [],
   "source": [
    "glucose_records_cal = glucose_records.copy(deep=True)\n",
    "\n",
    "# Put whatever calibration makes sense for you here\n",
    "\n",
    "# For instance, the two [Stelos](https://www.stelo.com/oura-ring) I tried with Oura needed calibration.\n",
    "# The first unit might have been defective generally (40 mg/dL above glucometer), but the second was more reasonable (only ~10-15 mg/dL above).\n",
    "switch_datetime = datetime(2025, 6, 15, hour=16, tzinfo=timezone.utc)  # Approximately\n",
    "glucose_records_cal.loc[glucose_records_cal.start_date <= switch_datetime, \"value\"] -= (\n",
    "    40.0\n",
    ")\n",
    "glucose_records_cal.loc[glucose_records_cal.start_date > switch_datetime, \"value\"] -= (\n",
    "    15.0\n",
    ")"
   ]
  },
  {
   "cell_type": "code",
   "execution_count": null,
   "id": "4a87996c-fa6b-4f9d-8f36-93a51d00c9b1",
   "metadata": {},
   "outputs": [],
   "source": [
    "sns.lineplot(\n",
    "    x=\"start_date\",\n",
    "    y=\"value\",\n",
    "    data=glucose_records_cal,\n",
    ")"
   ]
  },
  {
   "cell_type": "markdown",
   "id": "4ab864c5-7a4b-4edd-9202-24bd27e2f0f3",
   "metadata": {},
   "source": [
    "## glucotype.stanford.edu\n",
    "\n",
    "Researchers at Stanford University created a [web app](https://adaychen.shinyapps.io/shinyspecclust/) to understand one's \"glucotype\", a phenotype of how one regulates their blood glucose. It takes a simple TSV file as input, which we can create here from the calibrated readings."
   ]
  },
  {
   "cell_type": "code",
   "execution_count": null,
   "id": "9e245afc-9671-40e5-8df5-ac62b33586ca",
   "metadata": {},
   "outputs": [],
   "source": [
    "from apple_health_analysis.healthdata import APPLE_HEALTH_DIR\n",
    "\n",
    "local_timezone = timezone(timedelta(hours=-4))  # EDT\n",
    "\n",
    "with open(os.path.join(APPLE_HEALTH_DIR, \"glucotype.tsv\"), \"w\") as fd:\n",
    "    fd.write(\"GlucoseDisplayTime\\tGlucoseValue\\n\")\n",
    "    for row_tuple in glucose_records_cal.itertuples():\n",
    "        dt_str = row_tuple.start_date.replace(tzinfo=local_timezone).strftime(\n",
    "            \"%Y-%m-%d %H:%M:%S\"\n",
    "        )\n",
    "        fd.write(f\"{dt_str}\\t{int(row_tuple.value)}\\n\")"
   ]
  },
  {
   "cell_type": "code",
   "execution_count": null,
   "id": "99034458-98c5-404a-80c0-1bec5d9daa29",
   "metadata": {},
   "outputs": [],
   "source": []
  }
 ],
 "metadata": {
  "kernelspec": {
   "display_name": "Python 3 (ipykernel)",
   "language": "python",
   "name": "python3"
  },
  "language_info": {
   "codemirror_mode": {
    "name": "ipython",
    "version": 3
   },
   "file_extension": ".py",
   "mimetype": "text/x-python",
   "name": "python",
   "nbconvert_exporter": "python",
   "pygments_lexer": "ipython3",
   "version": "3.13.3"
  }
 },
 "nbformat": 4,
 "nbformat_minor": 5
}
