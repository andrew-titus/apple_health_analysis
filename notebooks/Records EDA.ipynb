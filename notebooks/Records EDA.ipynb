{
 "cells": [
  {
   "cell_type": "markdown",
   "id": "a8f4b15a-1e35-45ff-94bd-bd720a1b56e2",
   "metadata": {},
   "source": [
    "# Records EDA\n",
    "\n",
    "This notebook is to be used to examine record entries in the Apple Health export and conduct some initial EDA."
   ]
  },
  {
   "cell_type": "code",
   "execution_count": null,
   "id": "b8871e82-8456-4b3d-b203-1cf9e787c8db",
   "metadata": {},
   "outputs": [],
   "source": [
    "from collections import defaultdict\n",
    "\n",
    "from apple_health_analysis.healthdata import get_healthdata\n",
    "\n",
    "print(\"Getting HealthData -- this may take a while...\")\n",
    "healthdata = get_healthdata(cached=False)\n",
    "print(\"Done getting HealthData\")"
   ]
  },
  {
   "cell_type": "code",
   "execution_count": null,
   "id": "86c88050-f1ea-45bf-8bf3-bf50aa9ba56f",
   "metadata": {},
   "outputs": [],
   "source": [
    "print(healthdata.records)"
   ]
  },
  {
   "cell_type": "code",
   "execution_count": null,
   "id": "2c9e3fa5-433e-4886-a5aa-7aea939f0690",
   "metadata": {},
   "outputs": [],
   "source": [
    "print(healthdata.records.info(memory_usage=True))"
   ]
  },
  {
   "cell_type": "code",
   "execution_count": null,
   "id": "979f72fd-19e0-4f53-bf5a-e1727e908865",
   "metadata": {},
   "outputs": [],
   "source": [
    "for key in [\n",
    "    \"record_type\",\n",
    "    \"unit\",\n",
    "    \"source_name\",\n",
    "]:\n",
    "    print(\n",
    "        f\"\\n\\n\\n==================================\\nSummary of {key}\\n==================================\\n\"\n",
    "    )\n",
    "\n",
    "    print(healthdata.records[key].describe())\n",
    "\n",
    "    print(f\"\\nRecord counts for {key}:\")\n",
    "    record2count = defaultdict(int)\n",
    "    for val in healthdata.records[key]:\n",
    "        record2count[val] += 1\n",
    "    for val in sorted(record2count.keys(), key=lambda k: -record2count[k]):\n",
    "        print(f\"- {record2count[val]} records with {val}\")"
   ]
  },
  {
   "cell_type": "code",
   "execution_count": null,
   "id": "eb9cca56-38e4-4ab6-a621-2a4855c4e184",
   "metadata": {},
   "outputs": [],
   "source": [
    "for key in [\n",
    "    \"start_date\",\n",
    "    \"end_date\",\n",
    "    \"creation_date\",\n",
    "]:\n",
    "    print(\n",
    "        f\"\\n\\n\\n==================================\\nSummary of {key}\\n==================================\\n\"\n",
    "    )\n",
    "\n",
    "    print(healthdata.records[key].describe())"
   ]
  },
  {
   "cell_type": "code",
   "execution_count": null,
   "id": "f83777b7-9bb4-416d-9ad8-c22a1e1a3e11",
   "metadata": {},
   "outputs": [],
   "source": []
  }
 ],
 "metadata": {
  "kernelspec": {
   "display_name": "Python 3 (ipykernel)",
   "language": "python",
   "name": "python3"
  },
  "language_info": {
   "codemirror_mode": {
    "name": "ipython",
    "version": 3
   },
   "file_extension": ".py",
   "mimetype": "text/x-python",
   "name": "python",
   "nbconvert_exporter": "python",
   "pygments_lexer": "ipython3",
   "version": "3.13.3"
  }
 },
 "nbformat": 4,
 "nbformat_minor": 5
}
