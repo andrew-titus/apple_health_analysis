{
 "cells": [
  {
   "cell_type": "markdown",
   "id": "a8f4b15a-1e35-45ff-94bd-bd720a1b56e2",
   "metadata": {},
   "source": [
    "# EDA\n",
    "\n",
    "This notebook is to be used to open the XML files present in an Apple Health export ZIP and conduct some initial Exploratory Data Analysis (EDA)."
   ]
  },
  {
   "cell_type": "code",
   "execution_count": null,
   "id": "a6a93bbc-11f9-4bd1-9152-3db542e2bcb6",
   "metadata": {},
   "outputs": [],
   "source": [
    "import os"
   ]
  },
  {
   "cell_type": "code",
   "execution_count": null,
   "id": "b8871e82-8456-4b3d-b203-1cf9e787c8db",
   "metadata": {
    "scrolled": true
   },
   "outputs": [],
   "source": [
    "APPLE_HEALTH_DIR = os.path.join(os.path.dirname(os.getcwd()), \"apple_health\")\n",
    "\n",
    "print(\n",
    "    f\"Using {APPLE_HEALTH_DIR} as Apple Health directory (directory exists? {os.path.isdir(APPLE_HEALTH_DIR)})\"\n",
    ")\n",
    "print(\"Contents of Apple Health directory:\")\n",
    "for root, _, files in os.walk(APPLE_HEALTH_DIR):\n",
    "    for name in files:\n",
    "        print(os.path.join(root, name))"
   ]
  },
  {
   "cell_type": "markdown",
   "id": "4dfad729-f284-43a4-9cf3-fd1fe4558f24",
   "metadata": {},
   "source": [
    "## Overview of files\n",
    "\n",
    "In my export, I see the following files:\n",
    "\n",
    "* `export.xml`: Large file containing all data as [Apple HealthKit](https://developer.apple.com/documentation/healthkit) records\n",
    "* `export_cda.xml`: Large file containing all data as [Clinical Document Architecture](https://en.wikipedia.org/wiki/Clinical_Document_Architecture) records\n",
    "* `workout-routes/route_YYYY-MM-DD_hh.mm{a,p}m.gpx`: [GPS Exchange Format](https://en.wikipedia.org/wiki/GPS_Exchange_Format) files of workouts\n",
    "* `clinical-records/{Observation, DiagnosticReport, and more}-{UUID string}.json`: JSON files from clinical visits\n",
    "* `electrocardiograms/ecg_YYYY-MM-DD{_1,2,etc.}.csv`: CSV files describing ECGs taken on Apple Watch\n",
    "\n",
    "These may not be present in your export, and there may even be other file types that I don't have in mine."
   ]
  },
  {
   "cell_type": "markdown",
   "id": "e71f3fa8-f869-4da3-be0c-eae6160c88b6",
   "metadata": {},
   "source": [
    "### `export.xml`\n",
    "\n",
    "Let's start with this file and see what information it contains:"
   ]
  },
  {
   "cell_type": "code",
   "execution_count": null,
   "id": "3477fcd9-ad87-40bc-8274-4d6f208ac06d",
   "metadata": {},
   "outputs": [],
   "source": [
    "import xml.etree.ElementTree as ET\n",
    "\n",
    "EXPORT = os.path.join(APPLE_HEALTH_DIR, \"export.xml\")\n",
    "if not os.path.isfile(EXPORT):\n",
    "    raise FileNotFoundError(f\"Did not find export.xml in {APPLE_HEALTH_DIR}\")\n",
    "\n",
    "print(f\"Parsing {EXPORT} -- this may take a while\")\n",
    "export_tree = ET.parse(EXPORT)\n",
    "print(\"Done parsing\")\n",
    "\n",
    "export_root = export_tree.getroot()\n",
    "if export_root.tag != \"HealthData\":\n",
    "    raise ValueError(f\"Unable to find HealthData tag in {EXPORT}\")"
   ]
  },
  {
   "cell_type": "markdown",
   "id": "71715274-dd19-479c-8483-195a8b38475b",
   "metadata": {
    "editable": true,
    "slideshow": {
     "slide_type": ""
    },
    "tags": []
   },
   "source": [
    "#### Exploring `HealthData` contents\n",
    "\n",
    "There are many records here under the `HealthData` root corresponding to [HealthKit identifiers](https://developer.apple.com/documentation/healthkit?language=objc). Let's dig in and explore which ones are present!"
   ]
  },
  {
   "cell_type": "code",
   "execution_count": null,
   "id": "913b9f10-95ac-4770-bbd6-9519d16a7476",
   "metadata": {
    "scrolled": true
   },
   "outputs": [],
   "source": [
    "from collections import defaultdict\n",
    "\n",
    "tag_type_to_count = defaultdict(int)\n",
    "for elem in export_root:\n",
    "    tag_type = f\"{elem.tag} tag, type {elem.attrib.get('type')}\"\n",
    "    tag_type_to_count[tag_type] += 1\n",
    "\n",
    "print(f\"{len(tag_type_to_count)} tag types found in HealthData:\")\n",
    "for tag_type in sorted(tag_type_to_count.keys(), key=lambda k: -tag_type_to_count[k]):\n",
    "    print(f\"- {tag_type}: {tag_type_to_count[tag_type]} tags\")"
   ]
  },
  {
   "cell_type": "markdown",
   "id": "78a802e7-56e6-4b44-8ca1-63b6cb5b49a6",
   "metadata": {},
   "source": [
    "##### Record tags: HKQuantityTypeIdentifier and HKCategoryTypeIdentifier\n",
    "\n",
    "Most records seem to be subclasses of these, which we can visualize in several ways at various timescales (weeks, days, hours, minutes, etc.)\n",
    "\n",
    "* Scatter plots\n",
    "* Line plots\n",
    "* Box-and-whisker plots\n",
    "* ...and many more\n",
    "\n",
    "Let's leave specifics for individual notebooks.\n",
    "\n",
    "There is also a single Record tag with HKDataTypeSleepDurationGoal, but it has only two entries and isn't particularly interesting.\n",
    "\n",
    "##### ActivitySummary tags\n",
    "\n",
    "These are daily tags showing the goals set for [Apple Watch rings](https://www.apple.com/watch/close-your-rings/) (Move, Exercise and Stand) and the actual values achieved by day. Probably not particularly interesting either, unless compared to other quantities over time like body weight, etc.\n",
    "\n",
    "##### Workout tags\n",
    "\n",
    "These have detailed information on each workout performed, including source (e.g., third-party apps, Apple Watch, etc.), calories burned, distance, and links out to workout routes present elsewhere in the `apple_health/` export.\n",
    "\n",
    "##### ClinicalRecord tags\n",
    "\n",
    "These are records from clinical visits, including Observations, DiagnosticReports, and more. I don't personally have a ton of these and they are pretty coarse-grained, so probably won't look much deeper into these.\n",
    "\n",
    "##### Audiogram tags\n",
    "\n",
    "I only have two of these, both from AirPods Pro hearing tests. Also not terribly interesting to look at.\n",
    "\n",
    "##### ExportDate tag and Me tag\n",
    "\n",
    "The day the Apple Health export was made and metadata on myself... pretty sure I already know these lol, so definitely not following up on.\n",
    "\n",
    "#### Conclusion\n",
    "\n",
    "The `export.xml` file has a lot of interesting data in it, mainly in the form of various quantities recorded by different biometric sensors, activity summaries from Apple Watch, and workout metadata, but also some less interesting or relevant data. **Will take a look at these in depth in other notebooks.**"
   ]
  },
  {
   "cell_type": "code",
   "execution_count": null,
   "id": "a0ac3258-85fc-43b1-95db-2269d0f9e5dc",
   "metadata": {},
   "outputs": [],
   "source": []
  }
 ],
 "metadata": {
  "kernelspec": {
   "display_name": "Python 3 (ipykernel)",
   "language": "python",
   "name": "python3"
  },
  "language_info": {
   "codemirror_mode": {
    "name": "ipython",
    "version": 3
   },
   "file_extension": ".py",
   "mimetype": "text/x-python",
   "name": "python",
   "nbconvert_exporter": "python",
   "pygments_lexer": "ipython3",
   "version": "3.13.3"
  }
 },
 "nbformat": 4,
 "nbformat_minor": 5
}
